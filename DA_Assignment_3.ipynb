{
  "nbformat": 4,
  "nbformat_minor": 0,
  "metadata": {
    "colab": {
      "name": "DA_Assignment_3.ipynb",
      "provenance": [],
      "collapsed_sections": []
    },
    "kernelspec": {
      "name": "python3",
      "display_name": "Python 3"
    },
    "language_info": {
      "name": "python"
    }
  },
  "cells": [
    {
      "cell_type": "code",
      "execution_count": 1,
      "metadata": {
        "id": "72Yv3nOnU_Cp"
      },
      "outputs": [],
      "source": [
        "\n",
        "def count_words(string):\n",
        "    countdict = dict()\n",
        "    wordslist = string.split()\n",
        "\n",
        "    for word in wordslist:\n",
        "        if word in countdict:\n",
        "            countdict[word] += 1\n",
        "        else:\n",
        "            countdict[word] = 1\n",
        "\n",
        "    return countdict\n",
        "\n",
        "\n"
      ]
    },
    {
      "cell_type": "code",
      "source": [
        "import re\n",
        "inputstring = input('Enter sentence : ')\n",
        "pattern = r'[^A-Za-z]'\n",
        "sentence = re.sub(pattern, ' ', inputstring)\n",
        "print( count_words(sentence))"
      ],
      "metadata": {
        "colab": {
          "base_uri": "https://localhost:8080/"
        },
        "id": "frJDy3BhYufm",
        "outputId": "e3fc6815-e168-4d10-9ad2-213b4407405b"
      },
      "execution_count": 2,
      "outputs": [
        {
          "output_type": "stream",
          "name": "stdout",
          "text": [
            "Enter sentence : oh what a day what a lovely day @# #$ 123\n",
            "{'oh': 1, 'what': 2, 'a': 2, 'day': 2, 'lovely': 1}\n"
          ]
        }
      ]
    }
  ]
}