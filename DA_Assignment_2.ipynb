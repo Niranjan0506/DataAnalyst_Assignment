{
  "nbformat": 4,
  "nbformat_minor": 0,
  "metadata": {
    "colab": {
      "name": "DA Assignment 2.ipynb",
      "provenance": [],
      "collapsed_sections": []
    },
    "kernelspec": {
      "name": "python3",
      "display_name": "Python 3"
    },
    "language_info": {
      "name": "python"
    }
  },
  "cells": [
    {
      "cell_type": "markdown",
      "source": [
        "Question 1: Some of the orders are stored in another csv file named `bigkart_newsales`. Read the csv file, store it in a data frame and add it to the `bigkart_sales` data frame. Find the total sales value of the category 'Office Supplies' after combining the dataframes.\n"
      ],
      "metadata": {
        "id": "OYcXwtLUkTrq"
      }
    },
    {
      "cell_type": "code",
      "execution_count": 1,
      "metadata": {
        "colab": {
          "resources": {
            "http://localhost:8080/nbextensions/google.colab/files.js": {
              "data": "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",
              "ok": true,
              "headers": [
                [
                  "content-type",
                  "application/javascript"
                ]
              ],
              "status": 200,
              "status_text": ""
            }
          },
          "base_uri": "https://localhost:8080/",
          "height": 90
        },
        "id": "KIRedVISd75g",
        "outputId": "cd2e53ad-11fd-4e75-ca98-7ba5e9ee5269"
      },
      "outputs": [
        {
          "output_type": "display_data",
          "data": {
            "text/plain": [
              "<IPython.core.display.HTML object>"
            ],
            "text/html": [
              "\n",
              "     <input type=\"file\" id=\"files-7066c59f-099a-4db9-af1f-af02521606b0\" name=\"files[]\" multiple disabled\n",
              "        style=\"border:none\" />\n",
              "     <output id=\"result-7066c59f-099a-4db9-af1f-af02521606b0\">\n",
              "      Upload widget is only available when the cell has been executed in the\n",
              "      current browser session. Please rerun this cell to enable.\n",
              "      </output>\n",
              "      <script src=\"/nbextensions/google.colab/files.js\"></script> "
            ]
          },
          "metadata": {}
        },
        {
          "output_type": "stream",
          "name": "stdout",
          "text": [
            "Saving bigkart_newsales.csv to bigkart_newsales.csv\n",
            "Saving bigkart_sales.csv to bigkart_sales.csv\n"
          ]
        }
      ],
      "source": [
        "from google.colab import files\n",
        " \n",
        " \n",
        "uploaded = files.upload()"
      ]
    },
    {
      "cell_type": "code",
      "source": [
        "import pandas as pd\n",
        "import io"
      ],
      "metadata": {
        "id": "vzeK84OOeYXS"
      },
      "execution_count": 2,
      "outputs": []
    },
    {
      "cell_type": "code",
      "source": [
        "sales = pd.read_csv(io.BytesIO(uploaded['bigkart_sales.csv']))\n",
        "newsales = pd.read_csv(io.BytesIO(uploaded['bigkart_newsales.csv']))\n",
        "MainSales = sales.append(newsales)\n",
        "MainSales.head(5)\n"
      ],
      "metadata": {
        "colab": {
          "base_uri": "https://localhost:8080/",
          "height": 250
        },
        "id": "ABDx6MPcehYx",
        "outputId": "62f08523-0945-41a7-db4f-66f6faf5d582"
      },
      "execution_count": 9,
      "outputs": [
        {
          "output_type": "execute_result",
          "data": {
            "text/plain": [
              "          Order ID                                Product Name  Discount  \\\n",
              "0  AZ-2011-1029887  Novimex Color Coded Labels, 5000 Label Set       0.0   \n",
              "1   AZ-2011-107716              Deflect-O Door Stop, Erganomic       0.0   \n",
              "2  AZ-2011-1087704               Belkin Flash Drive, Bluetooth       0.0   \n",
              "3  AZ-2011-1372644                  Panasonic Printer, Durable       0.0   \n",
              "4  AZ-2011-1362199                   Sanford Pens, Fluorescent       0.5   \n",
              "\n",
              "   Sales  Profit  Quantity         Category Sub-Category  \n",
              "0     26       7         2  Office Supplies       Labels  \n",
              "1     85      15         2        Furniture  Furnishings  \n",
              "2    294     109         7       Technology  Accessories  \n",
              "3    800     168         3       Technology     Machines  \n",
              "4     25     -11         4  Office Supplies          Art  "
            ],
            "text/html": [
              "\n",
              "  <div id=\"df-bff2c8f4-d75a-445b-a468-3de31bc52326\">\n",
              "    <div class=\"colab-df-container\">\n",
              "      <div>\n",
              "<style scoped>\n",
              "    .dataframe tbody tr th:only-of-type {\n",
              "        vertical-align: middle;\n",
              "    }\n",
              "\n",
              "    .dataframe tbody tr th {\n",
              "        vertical-align: top;\n",
              "    }\n",
              "\n",
              "    .dataframe thead th {\n",
              "        text-align: right;\n",
              "    }\n",
              "</style>\n",
              "<table border=\"1\" class=\"dataframe\">\n",
              "  <thead>\n",
              "    <tr style=\"text-align: right;\">\n",
              "      <th></th>\n",
              "      <th>Order ID</th>\n",
              "      <th>Product Name</th>\n",
              "      <th>Discount</th>\n",
              "      <th>Sales</th>\n",
              "      <th>Profit</th>\n",
              "      <th>Quantity</th>\n",
              "      <th>Category</th>\n",
              "      <th>Sub-Category</th>\n",
              "    </tr>\n",
              "  </thead>\n",
              "  <tbody>\n",
              "    <tr>\n",
              "      <th>0</th>\n",
              "      <td>AZ-2011-1029887</td>\n",
              "      <td>Novimex Color Coded Labels, 5000 Label Set</td>\n",
              "      <td>0.0</td>\n",
              "      <td>26</td>\n",
              "      <td>7</td>\n",
              "      <td>2</td>\n",
              "      <td>Office Supplies</td>\n",
              "      <td>Labels</td>\n",
              "    </tr>\n",
              "    <tr>\n",
              "      <th>1</th>\n",
              "      <td>AZ-2011-107716</td>\n",
              "      <td>Deflect-O Door Stop, Erganomic</td>\n",
              "      <td>0.0</td>\n",
              "      <td>85</td>\n",
              "      <td>15</td>\n",
              "      <td>2</td>\n",
              "      <td>Furniture</td>\n",
              "      <td>Furnishings</td>\n",
              "    </tr>\n",
              "    <tr>\n",
              "      <th>2</th>\n",
              "      <td>AZ-2011-1087704</td>\n",
              "      <td>Belkin Flash Drive, Bluetooth</td>\n",
              "      <td>0.0</td>\n",
              "      <td>294</td>\n",
              "      <td>109</td>\n",
              "      <td>7</td>\n",
              "      <td>Technology</td>\n",
              "      <td>Accessories</td>\n",
              "    </tr>\n",
              "    <tr>\n",
              "      <th>3</th>\n",
              "      <td>AZ-2011-1372644</td>\n",
              "      <td>Panasonic Printer, Durable</td>\n",
              "      <td>0.0</td>\n",
              "      <td>800</td>\n",
              "      <td>168</td>\n",
              "      <td>3</td>\n",
              "      <td>Technology</td>\n",
              "      <td>Machines</td>\n",
              "    </tr>\n",
              "    <tr>\n",
              "      <th>4</th>\n",
              "      <td>AZ-2011-1362199</td>\n",
              "      <td>Sanford Pens, Fluorescent</td>\n",
              "      <td>0.5</td>\n",
              "      <td>25</td>\n",
              "      <td>-11</td>\n",
              "      <td>4</td>\n",
              "      <td>Office Supplies</td>\n",
              "      <td>Art</td>\n",
              "    </tr>\n",
              "  </tbody>\n",
              "</table>\n",
              "</div>\n",
              "      <button class=\"colab-df-convert\" onclick=\"convertToInteractive('df-bff2c8f4-d75a-445b-a468-3de31bc52326')\"\n",
              "              title=\"Convert this dataframe to an interactive table.\"\n",
              "              style=\"display:none;\">\n",
              "        \n",
              "  <svg xmlns=\"http://www.w3.org/2000/svg\" height=\"24px\"viewBox=\"0 0 24 24\"\n",
              "       width=\"24px\">\n",
              "    <path d=\"M0 0h24v24H0V0z\" fill=\"none\"/>\n",
              "    <path d=\"M18.56 5.44l.94 2.06.94-2.06 2.06-.94-2.06-.94-.94-2.06-.94 2.06-2.06.94zm-11 1L8.5 8.5l.94-2.06 2.06-.94-2.06-.94L8.5 2.5l-.94 2.06-2.06.94zm10 10l.94 2.06.94-2.06 2.06-.94-2.06-.94-.94-2.06-.94 2.06-2.06.94z\"/><path d=\"M17.41 7.96l-1.37-1.37c-.4-.4-.92-.59-1.43-.59-.52 0-1.04.2-1.43.59L10.3 9.45l-7.72 7.72c-.78.78-.78 2.05 0 2.83L4 21.41c.39.39.9.59 1.41.59.51 0 1.02-.2 1.41-.59l7.78-7.78 2.81-2.81c.8-.78.8-2.07 0-2.86zM5.41 20L4 18.59l7.72-7.72 1.47 1.35L5.41 20z\"/>\n",
              "  </svg>\n",
              "      </button>\n",
              "      \n",
              "  <style>\n",
              "    .colab-df-container {\n",
              "      display:flex;\n",
              "      flex-wrap:wrap;\n",
              "      gap: 12px;\n",
              "    }\n",
              "\n",
              "    .colab-df-convert {\n",
              "      background-color: #E8F0FE;\n",
              "      border: none;\n",
              "      border-radius: 50%;\n",
              "      cursor: pointer;\n",
              "      display: none;\n",
              "      fill: #1967D2;\n",
              "      height: 32px;\n",
              "      padding: 0 0 0 0;\n",
              "      width: 32px;\n",
              "    }\n",
              "\n",
              "    .colab-df-convert:hover {\n",
              "      background-color: #E2EBFA;\n",
              "      box-shadow: 0px 1px 2px rgba(60, 64, 67, 0.3), 0px 1px 3px 1px rgba(60, 64, 67, 0.15);\n",
              "      fill: #174EA6;\n",
              "    }\n",
              "\n",
              "    [theme=dark] .colab-df-convert {\n",
              "      background-color: #3B4455;\n",
              "      fill: #D2E3FC;\n",
              "    }\n",
              "\n",
              "    [theme=dark] .colab-df-convert:hover {\n",
              "      background-color: #434B5C;\n",
              "      box-shadow: 0px 1px 3px 1px rgba(0, 0, 0, 0.15);\n",
              "      filter: drop-shadow(0px 1px 2px rgba(0, 0, 0, 0.3));\n",
              "      fill: #FFFFFF;\n",
              "    }\n",
              "  </style>\n",
              "\n",
              "      <script>\n",
              "        const buttonEl =\n",
              "          document.querySelector('#df-bff2c8f4-d75a-445b-a468-3de31bc52326 button.colab-df-convert');\n",
              "        buttonEl.style.display =\n",
              "          google.colab.kernel.accessAllowed ? 'block' : 'none';\n",
              "\n",
              "        async function convertToInteractive(key) {\n",
              "          const element = document.querySelector('#df-bff2c8f4-d75a-445b-a468-3de31bc52326');\n",
              "          const dataTable =\n",
              "            await google.colab.kernel.invokeFunction('convertToInteractive',\n",
              "                                                     [key], {});\n",
              "          if (!dataTable) return;\n",
              "\n",
              "          const docLinkHtml = 'Like what you see? Visit the ' +\n",
              "            '<a target=\"_blank\" href=https://colab.research.google.com/notebooks/data_table.ipynb>data table notebook</a>'\n",
              "            + ' to learn more about interactive tables.';\n",
              "          element.innerHTML = '';\n",
              "          dataTable['output_type'] = 'display_data';\n",
              "          await google.colab.output.renderOutput(dataTable, element);\n",
              "          const docLink = document.createElement('div');\n",
              "          docLink.innerHTML = docLinkHtml;\n",
              "          element.appendChild(docLink);\n",
              "        }\n",
              "      </script>\n",
              "    </div>\n",
              "  </div>\n",
              "  "
            ]
          },
          "metadata": {},
          "execution_count": 9
        }
      ]
    },
    {
      "cell_type": "code",
      "source": [
        "MainSales.groupby(['Category'])['Sales'].sum()['Office Supplies']\n"
      ],
      "metadata": {
        "colab": {
          "base_uri": "https://localhost:8080/"
        },
        "id": "for4uBTvhkhg",
        "outputId": "f3526c27-393f-4bff-d9c8-89928f290ad4"
      },
      "execution_count": 19,
      "outputs": [
        {
          "output_type": "execute_result",
          "data": {
            "text/plain": [
              "7970"
            ]
          },
          "metadata": {},
          "execution_count": 19
        }
      ]
    },
    {
      "cell_type": "markdown",
      "source": [
        "Question 2: There are some duplicate rows in the data frame. Drop these rows and calculate the total sales value of the category Office Supplies."
      ],
      "metadata": {
        "id": "I-kZ8ICWkm-9"
      }
    },
    {
      "cell_type": "code",
      "source": [
        "MainSales.count()\n"
      ],
      "metadata": {
        "colab": {
          "base_uri": "https://localhost:8080/"
        },
        "id": "Ft7WF24ekqDc",
        "outputId": "7d19ca70-0159-45fc-9612-8246e20b67bf"
      },
      "execution_count": 25,
      "outputs": [
        {
          "output_type": "execute_result",
          "data": {
            "text/plain": [
              "Order ID        68\n",
              "Product Name    68\n",
              "Discount        68\n",
              "Sales           68\n",
              "Profit          68\n",
              "Quantity        68\n",
              "Category        68\n",
              "Sub-Category    68\n",
              "dtype: int64"
            ]
          },
          "metadata": {},
          "execution_count": 25
        }
      ]
    },
    {
      "cell_type": "code",
      "source": [
        "MainSalesNoDups=MainSales.drop_duplicates()\n",
        "MainSalesNoDups.count()"
      ],
      "metadata": {
        "colab": {
          "base_uri": "https://localhost:8080/"
        },
        "id": "G5blt-ZilX1V",
        "outputId": "77df8e82-87f2-4a77-a244-b3f8444659b8"
      },
      "execution_count": 26,
      "outputs": [
        {
          "output_type": "execute_result",
          "data": {
            "text/plain": [
              "Order ID        61\n",
              "Product Name    61\n",
              "Discount        61\n",
              "Sales           61\n",
              "Profit          61\n",
              "Quantity        61\n",
              "Category        61\n",
              "Sub-Category    61\n",
              "dtype: int64"
            ]
          },
          "metadata": {},
          "execution_count": 26
        }
      ]
    },
    {
      "cell_type": "code",
      "source": [
        "MainSalesNoDups.groupby(['Category'])['Sales'].sum()['Office Supplies']"
      ],
      "metadata": {
        "colab": {
          "base_uri": "https://localhost:8080/"
        },
        "id": "zp3ljIOQlfyd",
        "outputId": "594098df-0bb6-46e6-9fec-8d9b6cfdd344"
      },
      "execution_count": 27,
      "outputs": [
        {
          "output_type": "execute_result",
          "data": {
            "text/plain": [
              "6964"
            ]
          },
          "metadata": {},
          "execution_count": 27
        }
      ]
    },
    {
      "cell_type": "markdown",
      "source": [
        "Question 3: Find the most profitable category and sub category combination based on the net profit."
      ],
      "metadata": {
        "id": "zpvXRDOJlmw6"
      }
    },
    {
      "cell_type": "code",
      "source": [
        "maxprofit=MainSalesNoDups.groupby(by=['Category','Sub-Category']).Profit.sum().max()\n",
        "\n",
        "MainSalesNoDups.groupby(by=['Category','Sub-Category']).Profit.sum()==maxprofit\n",
        "##MainSalesNoDups.groupby(by=['Sub-Category']).Profit.sum().max()\n",
        "##MainSalesNoDups[MainSalesNoDups['Profit'] == maxprofit]\n",
        "##dataframe[dataframe['Percentage'] > 80]"
      ],
      "metadata": {
        "colab": {
          "base_uri": "https://localhost:8080/"
        },
        "id": "cZf1PC11lpGF",
        "outputId": "c7d7b06d-e1c9-4faf-b764-c71f16b1e7d2"
      },
      "execution_count": 115,
      "outputs": [
        {
          "output_type": "execute_result",
          "data": {
            "text/plain": [
              "Category         Sub-Category\n",
              "Furniture        Bookcases       False\n",
              "                 Chairs          False\n",
              "                 Furnishings     False\n",
              "Office Supplies  Appliances      False\n",
              "                 Art             False\n",
              "                 Binders         False\n",
              "                 Envelopes       False\n",
              "                 Fasteners       False\n",
              "                 Labels          False\n",
              "                 Paper           False\n",
              "                 Storage         False\n",
              "                 Supplies        False\n",
              "Technology       Accessories     False\n",
              "                 Copiers         False\n",
              "                 Machines        False\n",
              "                 Phones           True\n",
              "Name: Profit, dtype: bool"
            ]
          },
          "metadata": {},
          "execution_count": 115
        }
      ]
    },
    {
      "cell_type": "markdown",
      "source": [
        "Question 4: How many invalid order IDs are there in the data frame. An order id is of the form AZ-2011-Y where Y represents a whole number. A Order ID is said to be valid only if Y consists of 7 digits. Find the number of invalid order order IDs in the data frame."
      ],
      "metadata": {
        "id": "MD42YXhfnd4k"
      }
    },
    {
      "cell_type": "code",
      "source": [
        "MainSalesNoDups['Number']=MainSalesNoDups['Order ID'].str.split('-')\n",
        "MainSalesNoDups['Number']=MainSalesNoDups['Number'].apply(lambda x: x[2])\n",
        "MainSalesNoDups['digits']=MainSalesNoDups['Number'].apply(lambda x: len(x))\n",
        "InvalidOrder = MainSalesNoDups[ MainSalesNoDups['digits'] != 7 ]\n",
        "InvalidOrder['digits'].value_counts()\n",
        "##MainSalesNoDups['no_of_digits'].value_counts()\n"
      ],
      "metadata": {
        "colab": {
          "base_uri": "https://localhost:8080/"
        },
        "id": "q1jHBYXunhB6",
        "outputId": "7da38d5c-897f-45db-a35c-b8b1850cfd9c"
      },
      "execution_count": 65,
      "outputs": [
        {
          "output_type": "stream",
          "name": "stderr",
          "text": [
            "/usr/local/lib/python3.7/dist-packages/ipykernel_launcher.py:1: SettingWithCopyWarning: \n",
            "A value is trying to be set on a copy of a slice from a DataFrame.\n",
            "Try using .loc[row_indexer,col_indexer] = value instead\n",
            "\n",
            "See the caveats in the documentation: https://pandas.pydata.org/pandas-docs/stable/user_guide/indexing.html#returning-a-view-versus-a-copy\n",
            "  \"\"\"Entry point for launching an IPython kernel.\n",
            "/usr/local/lib/python3.7/dist-packages/ipykernel_launcher.py:2: SettingWithCopyWarning: \n",
            "A value is trying to be set on a copy of a slice from a DataFrame.\n",
            "Try using .loc[row_indexer,col_indexer] = value instead\n",
            "\n",
            "See the caveats in the documentation: https://pandas.pydata.org/pandas-docs/stable/user_guide/indexing.html#returning-a-view-versus-a-copy\n",
            "  \n",
            "/usr/local/lib/python3.7/dist-packages/ipykernel_launcher.py:3: SettingWithCopyWarning: \n",
            "A value is trying to be set on a copy of a slice from a DataFrame.\n",
            "Try using .loc[row_indexer,col_indexer] = value instead\n",
            "\n",
            "See the caveats in the documentation: https://pandas.pydata.org/pandas-docs/stable/user_guide/indexing.html#returning-a-view-versus-a-copy\n",
            "  This is separate from the ipykernel package so we can avoid doing imports until\n"
          ]
        },
        {
          "output_type": "execute_result",
          "data": {
            "text/plain": [
              "6    7\n",
              "Name: digits, dtype: int64"
            ]
          },
          "metadata": {},
          "execution_count": 65
        }
      ]
    },
    {
      "cell_type": "markdown",
      "source": [
        "Question 5: Find the top 25 orders based on sales value and find the number of orders which belong to furniture category."
      ],
      "metadata": {
        "id": "EZII0jRCt-iZ"
      }
    },
    {
      "cell_type": "code",
      "source": [
        "Df =MainSalesNoDups.sort_values(by='Sales', ascending=False)\n",
        "Df=Df.iloc[:25,]\n",
        "Df"
      ],
      "metadata": {
        "colab": {
          "base_uri": "https://localhost:8080/",
          "height": 1000
        },
        "id": "TRo6f-MtuBT4",
        "outputId": "980311e9-b7a7-4fdc-cb7a-cb0877f4fa2e"
      },
      "execution_count": 68,
      "outputs": [
        {
          "output_type": "execute_result",
          "data": {
            "text/plain": [
              "           Order ID                         Product Name  Discount  Sales  \\\n",
              "30  AZ-2011-1410648         Nokia Smart Phone, Full Size       0.0   1908   \n",
              "58   AZ-2011-176674                Hoover Microwave, Red       0.1   1667   \n",
              "8   AZ-2011-1174243     Nokia Audio Dock, with Caller ID       0.0   1334   \n",
              "20  AZ-2011-1322840     Motorola Headset, with Caller ID       0.0    957   \n",
              "3   AZ-2011-1372644           Panasonic Printer, Durable       0.0    800   \n",
              "18  AZ-2011-1406494         Fellowes Lockers, Industrial       0.1    748   \n",
              "39  AZ-2011-1536006      Logitech Keyboard, Programmable       0.0    666   \n",
              "33  AZ-2011-1445262          Apple Smart Phone, Cordless       0.0    636   \n",
              "31   AZ-2011-144325        Bush Stackable Bookrack, Pine       0.0    630   \n",
              "14  AZ-2011-1260928        Eldon File Cart, Single Width       0.1    576   \n",
              "12  AZ-2011-1253407       Safco Stackable Bookrack, Pine       0.1    541   \n",
              "48  AZ-2011-1672552      Binney & Smith Sketch Pad, Blue       0.0    510   \n",
              "41  AZ-2011-1584049                   Brother Ink, Laser       0.0    442   \n",
              "52  AZ-2011-1722024               Cisco Audio Dock, VoIP       0.0    364   \n",
              "0   AZ-2011-1902971  Wilson Jones Binding Machine, Clear       0.0    339   \n",
              "17   AZ-2011-130330     Office Star Chairmat, Adjustable       0.1    307   \n",
              "2   AZ-2011-1087704        Belkin Flash Drive, Bluetooth       0.0    294   \n",
              "1   AZ-2011-1916360        Dania 3-Shelf Cabinet, Mobile       0.0    288   \n",
              "11  AZ-2011-1240916           Boston Canvas, Water Color       0.0    284   \n",
              "34   AZ-2011-145488         Rogers File Cart, Industrial       0.4    255   \n",
              "6   AZ-2011-1116129       Avery Binding Machine, Durable       0.0    252   \n",
              "42  AZ-2011-1584987          Tenex File Cart, Industrial       0.1    241   \n",
              "38  AZ-2011-1499597          Boston Markers, Fluorescent       0.0    193   \n",
              "46  AZ-2011-1655349           Fiskars Trimmer, Easy Grip       0.0    176   \n",
              "43  AZ-2011-1589827     Novimex Steel Folding Chair, Red       0.6    164   \n",
              "\n",
              "    Profit  Quantity         Category Sub-Category Order no  no_of_digits  \\\n",
              "30     820         3       Technology       Phones  1410648             7   \n",
              "58     185         6  Office Supplies   Appliances   176674             6   \n",
              "8      200         8       Technology       Phones  1174243             7   \n",
              "20     316        12       Technology       Phones  1322840             7   \n",
              "3      168         3       Technology     Machines  1372644             7   \n",
              "18     283         4  Office Supplies      Storage  1406494             7   \n",
              "39      66         9       Technology  Accessories  1536006             7   \n",
              "33     140         1       Technology       Phones  1445262             7   \n",
              "31     132         5        Furniture    Bookcases   144325             6   \n",
              "14      51         5  Office Supplies      Storage  1260928             7   \n",
              "12     156         4        Furniture    Bookcases  1253407             7   \n",
              "48     132        11  Office Supplies          Art  1672552             7   \n",
              "41       0         3       Technology      Copiers  1584049             7   \n",
              "52     142         2       Technology       Phones  1722024             7   \n",
              "0      102         7  Office Supplies      Binders  1902971             7   \n",
              "17      99         5        Furniture       Chairs   130330             6   \n",
              "2      109         7       Technology  Accessories  1087704             7   \n",
              "1       20         2        Furniture    Bookcases  1916360             7   \n",
              "11      43         5  Office Supplies          Art  1240916             7   \n",
              "34     -98         3  Office Supplies      Storage   145488             6   \n",
              "6       15         5  Office Supplies      Binders  1116129             7   \n",
              "42      24         2  Office Supplies      Storage  1584987             7   \n",
              "38      29         7  Office Supplies          Art  1499597             7   \n",
              "46      65         4  Office Supplies     Supplies  1655349             7   \n",
              "43     -70         5        Furniture       Chairs  1589827             7   \n",
              "\n",
              "     Number  digits  \n",
              "30  1410648       7  \n",
              "58   176674       6  \n",
              "8   1174243       7  \n",
              "20  1322840       7  \n",
              "3   1372644       7  \n",
              "18  1406494       7  \n",
              "39  1536006       7  \n",
              "33  1445262       7  \n",
              "31   144325       6  \n",
              "14  1260928       7  \n",
              "12  1253407       7  \n",
              "48  1672552       7  \n",
              "41  1584049       7  \n",
              "52  1722024       7  \n",
              "0   1902971       7  \n",
              "17   130330       6  \n",
              "2   1087704       7  \n",
              "1   1916360       7  \n",
              "11  1240916       7  \n",
              "34   145488       6  \n",
              "6   1116129       7  \n",
              "42  1584987       7  \n",
              "38  1499597       7  \n",
              "46  1655349       7  \n",
              "43  1589827       7  "
            ],
            "text/html": [
              "\n",
              "  <div id=\"df-b8fc85e5-ab74-47f5-93ca-0a21f760be7a\">\n",
              "    <div class=\"colab-df-container\">\n",
              "      <div>\n",
              "<style scoped>\n",
              "    .dataframe tbody tr th:only-of-type {\n",
              "        vertical-align: middle;\n",
              "    }\n",
              "\n",
              "    .dataframe tbody tr th {\n",
              "        vertical-align: top;\n",
              "    }\n",
              "\n",
              "    .dataframe thead th {\n",
              "        text-align: right;\n",
              "    }\n",
              "</style>\n",
              "<table border=\"1\" class=\"dataframe\">\n",
              "  <thead>\n",
              "    <tr style=\"text-align: right;\">\n",
              "      <th></th>\n",
              "      <th>Order ID</th>\n",
              "      <th>Product Name</th>\n",
              "      <th>Discount</th>\n",
              "      <th>Sales</th>\n",
              "      <th>Profit</th>\n",
              "      <th>Quantity</th>\n",
              "      <th>Category</th>\n",
              "      <th>Sub-Category</th>\n",
              "      <th>Order no</th>\n",
              "      <th>no_of_digits</th>\n",
              "      <th>Number</th>\n",
              "      <th>digits</th>\n",
              "    </tr>\n",
              "  </thead>\n",
              "  <tbody>\n",
              "    <tr>\n",
              "      <th>30</th>\n",
              "      <td>AZ-2011-1410648</td>\n",
              "      <td>Nokia Smart Phone, Full Size</td>\n",
              "      <td>0.0</td>\n",
              "      <td>1908</td>\n",
              "      <td>820</td>\n",
              "      <td>3</td>\n",
              "      <td>Technology</td>\n",
              "      <td>Phones</td>\n",
              "      <td>1410648</td>\n",
              "      <td>7</td>\n",
              "      <td>1410648</td>\n",
              "      <td>7</td>\n",
              "    </tr>\n",
              "    <tr>\n",
              "      <th>58</th>\n",
              "      <td>AZ-2011-176674</td>\n",
              "      <td>Hoover Microwave, Red</td>\n",
              "      <td>0.1</td>\n",
              "      <td>1667</td>\n",
              "      <td>185</td>\n",
              "      <td>6</td>\n",
              "      <td>Office Supplies</td>\n",
              "      <td>Appliances</td>\n",
              "      <td>176674</td>\n",
              "      <td>6</td>\n",
              "      <td>176674</td>\n",
              "      <td>6</td>\n",
              "    </tr>\n",
              "    <tr>\n",
              "      <th>8</th>\n",
              "      <td>AZ-2011-1174243</td>\n",
              "      <td>Nokia Audio Dock, with Caller ID</td>\n",
              "      <td>0.0</td>\n",
              "      <td>1334</td>\n",
              "      <td>200</td>\n",
              "      <td>8</td>\n",
              "      <td>Technology</td>\n",
              "      <td>Phones</td>\n",
              "      <td>1174243</td>\n",
              "      <td>7</td>\n",
              "      <td>1174243</td>\n",
              "      <td>7</td>\n",
              "    </tr>\n",
              "    <tr>\n",
              "      <th>20</th>\n",
              "      <td>AZ-2011-1322840</td>\n",
              "      <td>Motorola Headset, with Caller ID</td>\n",
              "      <td>0.0</td>\n",
              "      <td>957</td>\n",
              "      <td>316</td>\n",
              "      <td>12</td>\n",
              "      <td>Technology</td>\n",
              "      <td>Phones</td>\n",
              "      <td>1322840</td>\n",
              "      <td>7</td>\n",
              "      <td>1322840</td>\n",
              "      <td>7</td>\n",
              "    </tr>\n",
              "    <tr>\n",
              "      <th>3</th>\n",
              "      <td>AZ-2011-1372644</td>\n",
              "      <td>Panasonic Printer, Durable</td>\n",
              "      <td>0.0</td>\n",
              "      <td>800</td>\n",
              "      <td>168</td>\n",
              "      <td>3</td>\n",
              "      <td>Technology</td>\n",
              "      <td>Machines</td>\n",
              "      <td>1372644</td>\n",
              "      <td>7</td>\n",
              "      <td>1372644</td>\n",
              "      <td>7</td>\n",
              "    </tr>\n",
              "    <tr>\n",
              "      <th>18</th>\n",
              "      <td>AZ-2011-1406494</td>\n",
              "      <td>Fellowes Lockers, Industrial</td>\n",
              "      <td>0.1</td>\n",
              "      <td>748</td>\n",
              "      <td>283</td>\n",
              "      <td>4</td>\n",
              "      <td>Office Supplies</td>\n",
              "      <td>Storage</td>\n",
              "      <td>1406494</td>\n",
              "      <td>7</td>\n",
              "      <td>1406494</td>\n",
              "      <td>7</td>\n",
              "    </tr>\n",
              "    <tr>\n",
              "      <th>39</th>\n",
              "      <td>AZ-2011-1536006</td>\n",
              "      <td>Logitech Keyboard, Programmable</td>\n",
              "      <td>0.0</td>\n",
              "      <td>666</td>\n",
              "      <td>66</td>\n",
              "      <td>9</td>\n",
              "      <td>Technology</td>\n",
              "      <td>Accessories</td>\n",
              "      <td>1536006</td>\n",
              "      <td>7</td>\n",
              "      <td>1536006</td>\n",
              "      <td>7</td>\n",
              "    </tr>\n",
              "    <tr>\n",
              "      <th>33</th>\n",
              "      <td>AZ-2011-1445262</td>\n",
              "      <td>Apple Smart Phone, Cordless</td>\n",
              "      <td>0.0</td>\n",
              "      <td>636</td>\n",
              "      <td>140</td>\n",
              "      <td>1</td>\n",
              "      <td>Technology</td>\n",
              "      <td>Phones</td>\n",
              "      <td>1445262</td>\n",
              "      <td>7</td>\n",
              "      <td>1445262</td>\n",
              "      <td>7</td>\n",
              "    </tr>\n",
              "    <tr>\n",
              "      <th>31</th>\n",
              "      <td>AZ-2011-144325</td>\n",
              "      <td>Bush Stackable Bookrack, Pine</td>\n",
              "      <td>0.0</td>\n",
              "      <td>630</td>\n",
              "      <td>132</td>\n",
              "      <td>5</td>\n",
              "      <td>Furniture</td>\n",
              "      <td>Bookcases</td>\n",
              "      <td>144325</td>\n",
              "      <td>6</td>\n",
              "      <td>144325</td>\n",
              "      <td>6</td>\n",
              "    </tr>\n",
              "    <tr>\n",
              "      <th>14</th>\n",
              "      <td>AZ-2011-1260928</td>\n",
              "      <td>Eldon File Cart, Single Width</td>\n",
              "      <td>0.1</td>\n",
              "      <td>576</td>\n",
              "      <td>51</td>\n",
              "      <td>5</td>\n",
              "      <td>Office Supplies</td>\n",
              "      <td>Storage</td>\n",
              "      <td>1260928</td>\n",
              "      <td>7</td>\n",
              "      <td>1260928</td>\n",
              "      <td>7</td>\n",
              "    </tr>\n",
              "    <tr>\n",
              "      <th>12</th>\n",
              "      <td>AZ-2011-1253407</td>\n",
              "      <td>Safco Stackable Bookrack, Pine</td>\n",
              "      <td>0.1</td>\n",
              "      <td>541</td>\n",
              "      <td>156</td>\n",
              "      <td>4</td>\n",
              "      <td>Furniture</td>\n",
              "      <td>Bookcases</td>\n",
              "      <td>1253407</td>\n",
              "      <td>7</td>\n",
              "      <td>1253407</td>\n",
              "      <td>7</td>\n",
              "    </tr>\n",
              "    <tr>\n",
              "      <th>48</th>\n",
              "      <td>AZ-2011-1672552</td>\n",
              "      <td>Binney &amp; Smith Sketch Pad, Blue</td>\n",
              "      <td>0.0</td>\n",
              "      <td>510</td>\n",
              "      <td>132</td>\n",
              "      <td>11</td>\n",
              "      <td>Office Supplies</td>\n",
              "      <td>Art</td>\n",
              "      <td>1672552</td>\n",
              "      <td>7</td>\n",
              "      <td>1672552</td>\n",
              "      <td>7</td>\n",
              "    </tr>\n",
              "    <tr>\n",
              "      <th>41</th>\n",
              "      <td>AZ-2011-1584049</td>\n",
              "      <td>Brother Ink, Laser</td>\n",
              "      <td>0.0</td>\n",
              "      <td>442</td>\n",
              "      <td>0</td>\n",
              "      <td>3</td>\n",
              "      <td>Technology</td>\n",
              "      <td>Copiers</td>\n",
              "      <td>1584049</td>\n",
              "      <td>7</td>\n",
              "      <td>1584049</td>\n",
              "      <td>7</td>\n",
              "    </tr>\n",
              "    <tr>\n",
              "      <th>52</th>\n",
              "      <td>AZ-2011-1722024</td>\n",
              "      <td>Cisco Audio Dock, VoIP</td>\n",
              "      <td>0.0</td>\n",
              "      <td>364</td>\n",
              "      <td>142</td>\n",
              "      <td>2</td>\n",
              "      <td>Technology</td>\n",
              "      <td>Phones</td>\n",
              "      <td>1722024</td>\n",
              "      <td>7</td>\n",
              "      <td>1722024</td>\n",
              "      <td>7</td>\n",
              "    </tr>\n",
              "    <tr>\n",
              "      <th>0</th>\n",
              "      <td>AZ-2011-1902971</td>\n",
              "      <td>Wilson Jones Binding Machine, Clear</td>\n",
              "      <td>0.0</td>\n",
              "      <td>339</td>\n",
              "      <td>102</td>\n",
              "      <td>7</td>\n",
              "      <td>Office Supplies</td>\n",
              "      <td>Binders</td>\n",
              "      <td>1902971</td>\n",
              "      <td>7</td>\n",
              "      <td>1902971</td>\n",
              "      <td>7</td>\n",
              "    </tr>\n",
              "    <tr>\n",
              "      <th>17</th>\n",
              "      <td>AZ-2011-130330</td>\n",
              "      <td>Office Star Chairmat, Adjustable</td>\n",
              "      <td>0.1</td>\n",
              "      <td>307</td>\n",
              "      <td>99</td>\n",
              "      <td>5</td>\n",
              "      <td>Furniture</td>\n",
              "      <td>Chairs</td>\n",
              "      <td>130330</td>\n",
              "      <td>6</td>\n",
              "      <td>130330</td>\n",
              "      <td>6</td>\n",
              "    </tr>\n",
              "    <tr>\n",
              "      <th>2</th>\n",
              "      <td>AZ-2011-1087704</td>\n",
              "      <td>Belkin Flash Drive, Bluetooth</td>\n",
              "      <td>0.0</td>\n",
              "      <td>294</td>\n",
              "      <td>109</td>\n",
              "      <td>7</td>\n",
              "      <td>Technology</td>\n",
              "      <td>Accessories</td>\n",
              "      <td>1087704</td>\n",
              "      <td>7</td>\n",
              "      <td>1087704</td>\n",
              "      <td>7</td>\n",
              "    </tr>\n",
              "    <tr>\n",
              "      <th>1</th>\n",
              "      <td>AZ-2011-1916360</td>\n",
              "      <td>Dania 3-Shelf Cabinet, Mobile</td>\n",
              "      <td>0.0</td>\n",
              "      <td>288</td>\n",
              "      <td>20</td>\n",
              "      <td>2</td>\n",
              "      <td>Furniture</td>\n",
              "      <td>Bookcases</td>\n",
              "      <td>1916360</td>\n",
              "      <td>7</td>\n",
              "      <td>1916360</td>\n",
              "      <td>7</td>\n",
              "    </tr>\n",
              "    <tr>\n",
              "      <th>11</th>\n",
              "      <td>AZ-2011-1240916</td>\n",
              "      <td>Boston Canvas, Water Color</td>\n",
              "      <td>0.0</td>\n",
              "      <td>284</td>\n",
              "      <td>43</td>\n",
              "      <td>5</td>\n",
              "      <td>Office Supplies</td>\n",
              "      <td>Art</td>\n",
              "      <td>1240916</td>\n",
              "      <td>7</td>\n",
              "      <td>1240916</td>\n",
              "      <td>7</td>\n",
              "    </tr>\n",
              "    <tr>\n",
              "      <th>34</th>\n",
              "      <td>AZ-2011-145488</td>\n",
              "      <td>Rogers File Cart, Industrial</td>\n",
              "      <td>0.4</td>\n",
              "      <td>255</td>\n",
              "      <td>-98</td>\n",
              "      <td>3</td>\n",
              "      <td>Office Supplies</td>\n",
              "      <td>Storage</td>\n",
              "      <td>145488</td>\n",
              "      <td>6</td>\n",
              "      <td>145488</td>\n",
              "      <td>6</td>\n",
              "    </tr>\n",
              "    <tr>\n",
              "      <th>6</th>\n",
              "      <td>AZ-2011-1116129</td>\n",
              "      <td>Avery Binding Machine, Durable</td>\n",
              "      <td>0.0</td>\n",
              "      <td>252</td>\n",
              "      <td>15</td>\n",
              "      <td>5</td>\n",
              "      <td>Office Supplies</td>\n",
              "      <td>Binders</td>\n",
              "      <td>1116129</td>\n",
              "      <td>7</td>\n",
              "      <td>1116129</td>\n",
              "      <td>7</td>\n",
              "    </tr>\n",
              "    <tr>\n",
              "      <th>42</th>\n",
              "      <td>AZ-2011-1584987</td>\n",
              "      <td>Tenex File Cart, Industrial</td>\n",
              "      <td>0.1</td>\n",
              "      <td>241</td>\n",
              "      <td>24</td>\n",
              "      <td>2</td>\n",
              "      <td>Office Supplies</td>\n",
              "      <td>Storage</td>\n",
              "      <td>1584987</td>\n",
              "      <td>7</td>\n",
              "      <td>1584987</td>\n",
              "      <td>7</td>\n",
              "    </tr>\n",
              "    <tr>\n",
              "      <th>38</th>\n",
              "      <td>AZ-2011-1499597</td>\n",
              "      <td>Boston Markers, Fluorescent</td>\n",
              "      <td>0.0</td>\n",
              "      <td>193</td>\n",
              "      <td>29</td>\n",
              "      <td>7</td>\n",
              "      <td>Office Supplies</td>\n",
              "      <td>Art</td>\n",
              "      <td>1499597</td>\n",
              "      <td>7</td>\n",
              "      <td>1499597</td>\n",
              "      <td>7</td>\n",
              "    </tr>\n",
              "    <tr>\n",
              "      <th>46</th>\n",
              "      <td>AZ-2011-1655349</td>\n",
              "      <td>Fiskars Trimmer, Easy Grip</td>\n",
              "      <td>0.0</td>\n",
              "      <td>176</td>\n",
              "      <td>65</td>\n",
              "      <td>4</td>\n",
              "      <td>Office Supplies</td>\n",
              "      <td>Supplies</td>\n",
              "      <td>1655349</td>\n",
              "      <td>7</td>\n",
              "      <td>1655349</td>\n",
              "      <td>7</td>\n",
              "    </tr>\n",
              "    <tr>\n",
              "      <th>43</th>\n",
              "      <td>AZ-2011-1589827</td>\n",
              "      <td>Novimex Steel Folding Chair, Red</td>\n",
              "      <td>0.6</td>\n",
              "      <td>164</td>\n",
              "      <td>-70</td>\n",
              "      <td>5</td>\n",
              "      <td>Furniture</td>\n",
              "      <td>Chairs</td>\n",
              "      <td>1589827</td>\n",
              "      <td>7</td>\n",
              "      <td>1589827</td>\n",
              "      <td>7</td>\n",
              "    </tr>\n",
              "  </tbody>\n",
              "</table>\n",
              "</div>\n",
              "      <button class=\"colab-df-convert\" onclick=\"convertToInteractive('df-b8fc85e5-ab74-47f5-93ca-0a21f760be7a')\"\n",
              "              title=\"Convert this dataframe to an interactive table.\"\n",
              "              style=\"display:none;\">\n",
              "        \n",
              "  <svg xmlns=\"http://www.w3.org/2000/svg\" height=\"24px\"viewBox=\"0 0 24 24\"\n",
              "       width=\"24px\">\n",
              "    <path d=\"M0 0h24v24H0V0z\" fill=\"none\"/>\n",
              "    <path d=\"M18.56 5.44l.94 2.06.94-2.06 2.06-.94-2.06-.94-.94-2.06-.94 2.06-2.06.94zm-11 1L8.5 8.5l.94-2.06 2.06-.94-2.06-.94L8.5 2.5l-.94 2.06-2.06.94zm10 10l.94 2.06.94-2.06 2.06-.94-2.06-.94-.94-2.06-.94 2.06-2.06.94z\"/><path d=\"M17.41 7.96l-1.37-1.37c-.4-.4-.92-.59-1.43-.59-.52 0-1.04.2-1.43.59L10.3 9.45l-7.72 7.72c-.78.78-.78 2.05 0 2.83L4 21.41c.39.39.9.59 1.41.59.51 0 1.02-.2 1.41-.59l7.78-7.78 2.81-2.81c.8-.78.8-2.07 0-2.86zM5.41 20L4 18.59l7.72-7.72 1.47 1.35L5.41 20z\"/>\n",
              "  </svg>\n",
              "      </button>\n",
              "      \n",
              "  <style>\n",
              "    .colab-df-container {\n",
              "      display:flex;\n",
              "      flex-wrap:wrap;\n",
              "      gap: 12px;\n",
              "    }\n",
              "\n",
              "    .colab-df-convert {\n",
              "      background-color: #E8F0FE;\n",
              "      border: none;\n",
              "      border-radius: 50%;\n",
              "      cursor: pointer;\n",
              "      display: none;\n",
              "      fill: #1967D2;\n",
              "      height: 32px;\n",
              "      padding: 0 0 0 0;\n",
              "      width: 32px;\n",
              "    }\n",
              "\n",
              "    .colab-df-convert:hover {\n",
              "      background-color: #E2EBFA;\n",
              "      box-shadow: 0px 1px 2px rgba(60, 64, 67, 0.3), 0px 1px 3px 1px rgba(60, 64, 67, 0.15);\n",
              "      fill: #174EA6;\n",
              "    }\n",
              "\n",
              "    [theme=dark] .colab-df-convert {\n",
              "      background-color: #3B4455;\n",
              "      fill: #D2E3FC;\n",
              "    }\n",
              "\n",
              "    [theme=dark] .colab-df-convert:hover {\n",
              "      background-color: #434B5C;\n",
              "      box-shadow: 0px 1px 3px 1px rgba(0, 0, 0, 0.15);\n",
              "      filter: drop-shadow(0px 1px 2px rgba(0, 0, 0, 0.3));\n",
              "      fill: #FFFFFF;\n",
              "    }\n",
              "  </style>\n",
              "\n",
              "      <script>\n",
              "        const buttonEl =\n",
              "          document.querySelector('#df-b8fc85e5-ab74-47f5-93ca-0a21f760be7a button.colab-df-convert');\n",
              "        buttonEl.style.display =\n",
              "          google.colab.kernel.accessAllowed ? 'block' : 'none';\n",
              "\n",
              "        async function convertToInteractive(key) {\n",
              "          const element = document.querySelector('#df-b8fc85e5-ab74-47f5-93ca-0a21f760be7a');\n",
              "          const dataTable =\n",
              "            await google.colab.kernel.invokeFunction('convertToInteractive',\n",
              "                                                     [key], {});\n",
              "          if (!dataTable) return;\n",
              "\n",
              "          const docLinkHtml = 'Like what you see? Visit the ' +\n",
              "            '<a target=\"_blank\" href=https://colab.research.google.com/notebooks/data_table.ipynb>data table notebook</a>'\n",
              "            + ' to learn more about interactive tables.';\n",
              "          element.innerHTML = '';\n",
              "          dataTable['output_type'] = 'display_data';\n",
              "          await google.colab.output.renderOutput(dataTable, element);\n",
              "          const docLink = document.createElement('div');\n",
              "          docLink.innerHTML = docLinkHtml;\n",
              "          element.appendChild(docLink);\n",
              "        }\n",
              "      </script>\n",
              "    </div>\n",
              "  </div>\n",
              "  "
            ]
          },
          "metadata": {},
          "execution_count": 68
        }
      ]
    },
    {
      "cell_type": "code",
      "source": [
        "Df['Category'].value_counts()['Furniture']"
      ],
      "metadata": {
        "colab": {
          "base_uri": "https://localhost:8080/"
        },
        "id": "xqLmgsGxvFjQ",
        "outputId": "4f4a3195-02d5-452a-def9-03ddc3652efd"
      },
      "execution_count": 69,
      "outputs": [
        {
          "output_type": "execute_result",
          "data": {
            "text/plain": [
              "5"
            ]
          },
          "metadata": {},
          "execution_count": 69
        }
      ]
    },
    {
      "cell_type": "markdown",
      "source": [
        "Question 6: Among the orders with sales>250 and profit>50, find the product name of the fourth highest order based on sales value."
      ],
      "metadata": {
        "id": "LYQ9IKMlvSEP"
      }
    },
    {
      "cell_type": "code",
      "source": [
        "highest_order=MainSalesNoDups.loc[(MainSalesNoDups['Sales']>250) & (MainSalesNoDups['Profit']>50)]\n",
        "##highest_order=highest_order.sort_values(by='Sales',ascending=False) \n",
        "highest_order.nlargest(4, ['Sales']).nsmallest(1,['Sales'])['Product Name']\n",
        "\n"
      ],
      "metadata": {
        "colab": {
          "base_uri": "https://localhost:8080/"
        },
        "id": "mhxMfllzvS54",
        "outputId": "ec9e07b5-a082-4f5d-c28f-293106bb683f"
      },
      "execution_count": 80,
      "outputs": [
        {
          "output_type": "execute_result",
          "data": {
            "text/plain": [
              "20    Motorola Headset, with Caller ID\n",
              "Name: Product Name, dtype: object"
            ]
          },
          "metadata": {},
          "execution_count": 80
        }
      ]
    },
    {
      "cell_type": "markdown",
      "source": [
        "Question 7: Remove the orders with negative profit by dropping the corresponding rows with negative `Profit`. Find the product that makes the lowest profit per Quantity in the Technology category."
      ],
      "metadata": {
        "id": "FjC7dyfhxWo-"
      }
    },
    {
      "cell_type": "code",
      "source": [
        "PositiveProfit=MainSalesNoDups[MainSalesNoDups.Profit>0]\n",
        "PositiveProfit=PositiveProfit.loc[PositiveProfit.Category=='Technology']\n",
        "PositiveProfit['ProfitperQty']=PositiveProfit['Profit']/PositiveProfit['Quantity']\n",
        "DfLow = PositiveProfit.sort_values(by='ProfitperQty',ascending=True)\n",
        "DfLow.nsmallest(1,['ProfitperQty'])['Product Name']"
      ],
      "metadata": {
        "colab": {
          "base_uri": "https://localhost:8080/"
        },
        "id": "NIpzQMmIxe8u",
        "outputId": "19f7989b-0d1b-430d-92a1-00736757db66"
      },
      "execution_count": 89,
      "outputs": [
        {
          "output_type": "execute_result",
          "data": {
            "text/plain": [
              "39    Logitech Keyboard, Programmable\n",
              "Name: Product Name, dtype: object"
            ]
          },
          "metadata": {},
          "execution_count": 89
        }
      ]
    }
  ]
}